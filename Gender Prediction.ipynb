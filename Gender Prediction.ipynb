{
 "cells": [
  {
   "cell_type": "code",
   "execution_count": 1,
   "id": "70f085f6",
   "metadata": {},
   "outputs": [],
   "source": [
    "# Importing libraries\n",
    "import pandas as pd\n",
    "import numpy as np\n",
    "from pandas import read_csv\n",
    "from sklearn.feature_extraction import DictVectorizer\n",
    "from sklearn.feature_extraction.text import CountVectorizer\n",
    "from sklearn.model_selection import train_test_split\n"
   ]
  },
  {
   "cell_type": "code",
   "execution_count": 2,
   "id": "a2b3b392",
   "metadata": {},
   "outputs": [
    {
     "data": {
      "text/html": [
       "<div>\n",
       "<style scoped>\n",
       "    .dataframe tbody tr th:only-of-type {\n",
       "        vertical-align: middle;\n",
       "    }\n",
       "\n",
       "    .dataframe tbody tr th {\n",
       "        vertical-align: top;\n",
       "    }\n",
       "\n",
       "    .dataframe thead th {\n",
       "        text-align: right;\n",
       "    }\n",
       "</style>\n",
       "<table border=\"1\" class=\"dataframe\">\n",
       "  <thead>\n",
       "    <tr style=\"text-align: right;\">\n",
       "      <th></th>\n",
       "      <th>name</th>\n",
       "      <th>sex</th>\n",
       "    </tr>\n",
       "  </thead>\n",
       "  <tbody>\n",
       "    <tr>\n",
       "      <th>0</th>\n",
       "      <td>Mary</td>\n",
       "      <td>F</td>\n",
       "    </tr>\n",
       "    <tr>\n",
       "      <th>1</th>\n",
       "      <td>Anna</td>\n",
       "      <td>F</td>\n",
       "    </tr>\n",
       "    <tr>\n",
       "      <th>2</th>\n",
       "      <td>Emma</td>\n",
       "      <td>F</td>\n",
       "    </tr>\n",
       "    <tr>\n",
       "      <th>3</th>\n",
       "      <td>Elizabeth</td>\n",
       "      <td>F</td>\n",
       "    </tr>\n",
       "    <tr>\n",
       "      <th>4</th>\n",
       "      <td>Minnie</td>\n",
       "      <td>F</td>\n",
       "    </tr>\n",
       "    <tr>\n",
       "      <th>...</th>\n",
       "      <td>...</td>\n",
       "      <td>...</td>\n",
       "    </tr>\n",
       "    <tr>\n",
       "      <th>125078</th>\n",
       "      <td>shivani</td>\n",
       "      <td>f</td>\n",
       "    </tr>\n",
       "    <tr>\n",
       "      <th>125079</th>\n",
       "      <td>nayna</td>\n",
       "      <td>f</td>\n",
       "    </tr>\n",
       "    <tr>\n",
       "      <th>125080</th>\n",
       "      <td>ujwal</td>\n",
       "      <td>M</td>\n",
       "    </tr>\n",
       "    <tr>\n",
       "      <th>125081</th>\n",
       "      <td>Prajwal</td>\n",
       "      <td>M</td>\n",
       "    </tr>\n",
       "    <tr>\n",
       "      <th>125082</th>\n",
       "      <td>Gauri</td>\n",
       "      <td>F</td>\n",
       "    </tr>\n",
       "  </tbody>\n",
       "</table>\n",
       "<p>125083 rows × 2 columns</p>\n",
       "</div>"
      ],
      "text/plain": [
       "             name sex\n",
       "0            Mary   F\n",
       "1            Anna   F\n",
       "2            Emma   F\n",
       "3       Elizabeth   F\n",
       "4          Minnie   F\n",
       "...           ...  ..\n",
       "125078    shivani   f\n",
       "125079      nayna   f\n",
       "125080      ujwal   M\n",
       "125081    Prajwal   M\n",
       "125082      Gauri   F\n",
       "\n",
       "[125083 rows x 2 columns]"
      ]
     },
     "execution_count": 2,
     "metadata": {},
     "output_type": "execute_result"
    }
   ],
   "source": [
    "# data loading \n",
    "filename='names_dataset.csv'\n",
    "data=read_csv(filename)\n",
    "data"
   ]
  },
  {
   "cell_type": "code",
   "execution_count": 3,
   "id": "ead4a556",
   "metadata": {},
   "outputs": [
    {
     "data": {
      "text/plain": [
       "(125083, 2)"
      ]
     },
     "execution_count": 3,
     "metadata": {},
     "output_type": "execute_result"
    }
   ],
   "source": [
    "# handling missing values \n",
    "data.shape\n",
    "# data.isnull().sum()\n",
    "# as no null values so no need to drop any row or handle anything"
   ]
  },
  {
   "cell_type": "code",
   "execution_count": 4,
   "id": "13d37dd9",
   "metadata": {},
   "outputs": [
    {
     "data": {
      "text/html": [
       "<div>\n",
       "<style scoped>\n",
       "    .dataframe tbody tr th:only-of-type {\n",
       "        vertical-align: middle;\n",
       "    }\n",
       "\n",
       "    .dataframe tbody tr th {\n",
       "        vertical-align: top;\n",
       "    }\n",
       "\n",
       "    .dataframe thead th {\n",
       "        text-align: right;\n",
       "    }\n",
       "</style>\n",
       "<table border=\"1\" class=\"dataframe\">\n",
       "  <thead>\n",
       "    <tr style=\"text-align: right;\">\n",
       "      <th></th>\n",
       "      <th>name</th>\n",
       "      <th>sex</th>\n",
       "    </tr>\n",
       "  </thead>\n",
       "  <tbody>\n",
       "    <tr>\n",
       "      <th>0</th>\n",
       "      <td>Mary</td>\n",
       "      <td>0</td>\n",
       "    </tr>\n",
       "    <tr>\n",
       "      <th>1</th>\n",
       "      <td>Anna</td>\n",
       "      <td>0</td>\n",
       "    </tr>\n",
       "    <tr>\n",
       "      <th>2</th>\n",
       "      <td>Emma</td>\n",
       "      <td>0</td>\n",
       "    </tr>\n",
       "    <tr>\n",
       "      <th>3</th>\n",
       "      <td>Elizabeth</td>\n",
       "      <td>0</td>\n",
       "    </tr>\n",
       "    <tr>\n",
       "      <th>4</th>\n",
       "      <td>Minnie</td>\n",
       "      <td>0</td>\n",
       "    </tr>\n",
       "    <tr>\n",
       "      <th>...</th>\n",
       "      <td>...</td>\n",
       "      <td>...</td>\n",
       "    </tr>\n",
       "    <tr>\n",
       "      <th>125078</th>\n",
       "      <td>shivani</td>\n",
       "      <td>0</td>\n",
       "    </tr>\n",
       "    <tr>\n",
       "      <th>125079</th>\n",
       "      <td>nayna</td>\n",
       "      <td>0</td>\n",
       "    </tr>\n",
       "    <tr>\n",
       "      <th>125080</th>\n",
       "      <td>ujwal</td>\n",
       "      <td>1</td>\n",
       "    </tr>\n",
       "    <tr>\n",
       "      <th>125081</th>\n",
       "      <td>Prajwal</td>\n",
       "      <td>1</td>\n",
       "    </tr>\n",
       "    <tr>\n",
       "      <th>125082</th>\n",
       "      <td>Gauri</td>\n",
       "      <td>0</td>\n",
       "    </tr>\n",
       "  </tbody>\n",
       "</table>\n",
       "<p>125083 rows × 2 columns</p>\n",
       "</div>"
      ],
      "text/plain": [
       "             name  sex\n",
       "0            Mary    0\n",
       "1            Anna    0\n",
       "2            Emma    0\n",
       "3       Elizabeth    0\n",
       "4          Minnie    0\n",
       "...           ...  ...\n",
       "125078    shivani    0\n",
       "125079      nayna    0\n",
       "125080      ujwal    1\n",
       "125081    Prajwal    1\n",
       "125082      Gauri    0\n",
       "\n",
       "[125083 rows x 2 columns]"
      ]
     },
     "execution_count": 4,
     "metadata": {},
     "output_type": "execute_result"
    }
   ],
   "source": [
    "# Data Coversion so that we get data in integer type\n",
    "data_names=data\n",
    "data.sex.replace({'F':0,'M':1},inplace=True)\n",
    "data.sex.replace({'f':0,'m':1},inplace=True)\n",
    "data.tail()\n",
    "data_names # changes are reflected in both data_names and data\n",
    "data"
   ]
  },
  {
   "cell_type": "code",
   "execution_count": 5,
   "id": "2d506a23",
   "metadata": {},
   "outputs": [
    {
     "data": {
      "text/plain": [
       "array([0, 1], dtype=int64)"
      ]
     },
     "execution_count": 5,
     "metadata": {},
     "output_type": "execute_result"
    }
   ],
   "source": [
    "data_names.sex.unique()"
   ]
  },
  {
   "cell_type": "code",
   "execution_count": 6,
   "id": "3573e9f8",
   "metadata": {},
   "outputs": [
    {
     "data": {
      "text/plain": [
       "name    Lillie\n",
       "sex          0\n",
       "Name: 33, dtype: object"
      ]
     },
     "execution_count": 6,
     "metadata": {},
     "output_type": "execute_result"
    }
   ],
   "source": [
    "data.loc[33]"
   ]
  },
  {
   "cell_type": "code",
   "execution_count": 7,
   "id": "0a8b326d",
   "metadata": {},
   "outputs": [
    {
     "data": {
      "text/plain": [
       "0         0\n",
       "1         0\n",
       "2         0\n",
       "3         0\n",
       "4         0\n",
       "         ..\n",
       "125078    0\n",
       "125079    0\n",
       "125080    1\n",
       "125081    1\n",
       "125082    0\n",
       "Name: sex, Length: 125083, dtype: int64"
      ]
     },
     "execution_count": 7,
     "metadata": {},
     "output_type": "execute_result"
    }
   ],
   "source": [
    "# Feature Selection as deciding x and y \n",
    "data_x=data_names.name\n",
    "data_y=data_names.sex\n",
    "data_x\n",
    "data_y\n"
   ]
  },
  {
   "cell_type": "code",
   "execution_count": 8,
   "id": "6a2a60ab",
   "metadata": {},
   "outputs": [],
   "source": [
    "# feature Extraction  \n",
    "# MOst Important work done by CountVectorizer (NLP)\n",
    "corpus=data_x\n",
    "vectorizer=CountVectorizer()\n",
    "X=vectorizer.fit_transform(corpus)"
   ]
  },
  {
   "cell_type": "code",
   "execution_count": 9,
   "id": "60f04e1b",
   "metadata": {},
   "outputs": [],
   "source": [
    "# Train Test split\n",
    "X_train,X_test,Y_train,Y_test=train_test_split(X,data_y,test_size=0.3,random_state=45)# we are passing transformed x by countVectorizer "
   ]
  },
  {
   "cell_type": "code",
   "execution_count": 10,
   "id": "91f63cdb",
   "metadata": {},
   "outputs": [
    {
     "data": {
      "text/plain": [
       "0.6985742838107928"
      ]
     },
     "execution_count": 10,
     "metadata": {},
     "output_type": "execute_result"
    }
   ],
   "source": [
    "# fit the model\n",
    "from sklearn.naive_bayes import MultinomialNB\n",
    "clf=MultinomialNB () # model call\n",
    "clf.fit(X_train,Y_train) \n",
    "clf.score(X_test,Y_test)"
   ]
  },
  {
   "cell_type": "code",
   "execution_count": 11,
   "id": "c364b4c0",
   "metadata": {},
   "outputs": [
    {
     "name": "stdout",
     "output_type": "stream",
     "text": [
      "Accuracy of naive bayes is :69.42%\n",
      "Accuracy of naive bayes is :69.61%\n",
      "Accuracy of naive bayes is :69.45%\n",
      "Accuracy of naive bayes is :69.78%\n",
      "Accuracy of naive bayes is :69.95%\n",
      "Accuracy of naive bayes is :70.00%\n",
      "Accuracy of naive bayes is :69.69%\n",
      "Accuracy of naive bayes is :69.51%\n",
      "Accuracy of naive bayes is :70.30%\n",
      "Accuracy of naive bayes is :69.89%\n",
      "\n",
      "mean accuracy of naive bayes is  0.6975948143187252\n"
     ]
    }
   ],
   "source": [
    "# checking accuracy \n",
    "# Cross Validation\n",
    "\n",
    "from sklearn.model_selection import cross_val_score\n",
    "v=cross_val_score(clf,X_train,Y_train,cv=10) # here we are passing our model and traing data to perform cross validation\n",
    "for i in range(10):\n",
    "    print (\"Accuracy of naive bayes is :{0:.2%}\".format(v[i,]))\n",
    "print(\"\")\n",
    "print(\"mean accuracy of naive bayes is \",v.mean())\n"
   ]
  },
  {
   "cell_type": "code",
   "execution_count": 12,
   "id": "72361cfc",
   "metadata": {},
   "outputs": [
    {
     "name": "stdout",
     "output_type": "stream",
     "text": [
      "              precision    recall  f1-score   support\n",
      "\n",
      "           1       0.94      0.25      0.39     14752\n",
      "           2       0.00      0.00      0.00         0\n",
      "           3       0.00      0.00      0.00         0\n",
      "\n",
      "   micro avg       0.94      0.25      0.39     14752\n",
      "   macro avg       0.31      0.08      0.13     14752\n",
      "weighted avg       0.94      0.25      0.39     14752\n",
      "\n"
     ]
    },
    {
     "name": "stderr",
     "output_type": "stream",
     "text": [
      "C:\\Users\\Gauri Panpaliya\\anaconda3\\lib\\site-packages\\sklearn\\metrics\\_classification.py:1318: UndefinedMetricWarning: Precision and F-score are ill-defined and being set to 0.0 in labels with no predicted samples. Use `zero_division` parameter to control this behavior.\n",
      "  _warn_prf(average, modifier, msg_start, len(result))\n",
      "C:\\Users\\Gauri Panpaliya\\anaconda3\\lib\\site-packages\\sklearn\\metrics\\_classification.py:1318: UndefinedMetricWarning: Recall and F-score are ill-defined and being set to 0.0 in labels with no true samples. Use `zero_division` parameter to control this behavior.\n",
      "  _warn_prf(average, modifier, msg_start, len(result))\n",
      "C:\\Users\\Gauri Panpaliya\\anaconda3\\lib\\site-packages\\sklearn\\metrics\\_classification.py:1318: UndefinedMetricWarning: Precision and F-score are ill-defined and being set to 0.0 in labels with no predicted samples. Use `zero_division` parameter to control this behavior.\n",
      "  _warn_prf(average, modifier, msg_start, len(result))\n",
      "C:\\Users\\Gauri Panpaliya\\anaconda3\\lib\\site-packages\\sklearn\\metrics\\_classification.py:1318: UndefinedMetricWarning: Recall and F-score are ill-defined and being set to 0.0 in labels with no true samples. Use `zero_division` parameter to control this behavior.\n",
      "  _warn_prf(average, modifier, msg_start, len(result))\n",
      "C:\\Users\\Gauri Panpaliya\\anaconda3\\lib\\site-packages\\sklearn\\metrics\\_classification.py:1318: UndefinedMetricWarning: Precision and F-score are ill-defined and being set to 0.0 in labels with no predicted samples. Use `zero_division` parameter to control this behavior.\n",
      "  _warn_prf(average, modifier, msg_start, len(result))\n",
      "C:\\Users\\Gauri Panpaliya\\anaconda3\\lib\\site-packages\\sklearn\\metrics\\_classification.py:1318: UndefinedMetricWarning: Recall and F-score are ill-defined and being set to 0.0 in labels with no true samples. Use `zero_division` parameter to control this behavior.\n",
      "  _warn_prf(average, modifier, msg_start, len(result))\n"
     ]
    }
   ],
   "source": [
    "# accuracy by using different metrics  \n",
    "\"\"\" \n",
    "RECALL  =TP/(TP+FN)\n",
    "PRECISON = TP/(TP+FP)\n",
    "F1 SCORE \n",
    "\"\"\"\n",
    "from sklearn.metrics import classification_report\n",
    "fit=clf.fit(X_train,Y_train)\n",
    "predict=fit.predict(X_test) # as we are predicting so need to pass x_test , and predicting on fit data of training \n",
    "print(classification_report(Y_test,predict,labels=[1,2,3])) # here we are passing y_test and predicted x_test"
   ]
  },
  {
   "cell_type": "code",
   "execution_count": 13,
   "id": "0258670b",
   "metadata": {},
   "outputs": [
    {
     "name": "stdout",
     "output_type": "stream",
     "text": [
      "Model is Dumped\n"
     ]
    }
   ],
   "source": [
    "# developing a model and dumping\n",
    "import joblib\n",
    "import pickle\n",
    "joblib.dump(clf,'model\\gender_model.pkl')\n",
    "print(\"Model is Dumped\")"
   ]
  },
  {
   "cell_type": "code",
   "execution_count": 14,
   "id": "7b9c4446",
   "metadata": {},
   "outputs": [],
   "source": [
    "df = pd.read_csv(\"names_dataset.csv\")\n",
    "# Features and Labels\n",
    "df_X = df.name\n",
    "df_Y = df.sex\n",
    "\n",
    "# Vectorization\n",
    "corpus = df_X\n",
    "cv = CountVectorizer()\n",
    "X = cv.fit_transform(corpus)\n"
   ]
  },
  {
   "cell_type": "code",
   "execution_count": 15,
   "id": "de684b75",
   "metadata": {},
   "outputs": [],
   "source": [
    "naivebayes_model = open(\"model/gender_model.pkl\", \"rb\")\n",
    "clf = joblib.load(naivebayes_model)\n"
   ]
  },
  {
   "cell_type": "code",
   "execution_count": 16,
   "id": "12992d0e",
   "metadata": {},
   "outputs": [
    {
     "name": "stdout",
     "output_type": "stream",
     "text": [
      "[0]\n"
     ]
    }
   ],
   "source": [
    "data = [\"Gauri\"]\n",
    "vect = cv.transform(data).toarray()\n",
    "print(clf.predict(vect))\n"
   ]
  },
  {
   "cell_type": "code",
   "execution_count": null,
   "id": "97123fbf",
   "metadata": {},
   "outputs": [],
   "source": []
  },
  {
   "cell_type": "code",
   "execution_count": null,
   "id": "b9862280",
   "metadata": {},
   "outputs": [],
   "source": []
  }
 ],
 "metadata": {
  "kernelspec": {
   "display_name": "Python 3 (ipykernel)",
   "language": "python",
   "name": "python3"
  },
  "language_info": {
   "codemirror_mode": {
    "name": "ipython",
    "version": 3
   },
   "file_extension": ".py",
   "mimetype": "text/x-python",
   "name": "python",
   "nbconvert_exporter": "python",
   "pygments_lexer": "ipython3",
   "version": "3.9.13"
  }
 },
 "nbformat": 4,
 "nbformat_minor": 5
}
